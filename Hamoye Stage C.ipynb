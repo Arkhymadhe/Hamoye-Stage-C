{
 "cells": [
  {
   "cell_type": "code",
   "metadata": {
    "tags": [],
    "cell_id": "00001-0b8ba0f5-71a1-463a-af46-8a9a63a1d573",
    "deepnote_to_be_reexecuted": false,
    "source_hash": "78c867d",
    "execution_start": 1633472562300,
    "execution_millis": 896,
    "deepnote_cell_type": "code"
   },
   "source": "import pandas as pd\nimport numpy as np\nimport matplotlib.pyplot as plt\nimport seaborn as sns\n%matplotlib inline\nsns.set()",
   "execution_count": 1,
   "outputs": []
  },
  {
   "cell_type": "code",
   "metadata": {
    "tags": [],
    "cell_id": "00001-f0181ef0-67f3-4cb5-b773-5a8cde269157",
    "deepnote_to_be_reexecuted": false,
    "source_hash": "d2d818d5",
    "execution_start": 1633472563196,
    "execution_millis": 81,
    "deepnote_cell_type": "code"
   },
   "source": "data = pd.read_csv('Data_for_UCI_named.csv')",
   "execution_count": 2,
   "outputs": []
  },
  {
   "cell_type": "code",
   "metadata": {
    "tags": [],
    "cell_id": "00002-ad638e90-228e-4807-8886-86fb0799fd86",
    "deepnote_to_be_reexecuted": false,
    "source_hash": "41313cfa",
    "execution_start": 1633472563312,
    "execution_millis": 33,
    "deepnote_cell_type": "code"
   },
   "source": "data.head()",
   "execution_count": 3,
   "outputs": [
    {
     "output_type": "execute_result",
     "execution_count": 3,
     "data": {
      "application/vnd.deepnote.dataframe.v2+json": {
       "row_count": 5,
       "column_count": 14,
       "columns": [
        {
         "name": "tau1",
         "dtype": "float64",
         "stats": {
          "unique_count": 5,
          "nan_count": 0,
          "min": "0.716414776295121",
          "max": "9.3040972346785",
          "histogram": [
           {
            "bin_start": 0.716414776295121,
            "bin_end": 1.5751830221334588,
            "count": 1
           },
           {
            "bin_start": 1.5751830221334588,
            "bin_end": 2.4339512679717967,
            "count": 0
           },
           {
            "bin_start": 2.4339512679717967,
            "bin_end": 3.292719513810135,
            "count": 2
           },
           {
            "bin_start": 3.292719513810135,
            "bin_end": 4.1514877596484725,
            "count": 0
           },
           {
            "bin_start": 4.1514877596484725,
            "bin_end": 5.01025600548681,
            "count": 0
           },
           {
            "bin_start": 5.01025600548681,
            "bin_end": 5.869024251325149,
            "count": 0
           },
           {
            "bin_start": 5.869024251325149,
            "bin_end": 6.727792497163486,
            "count": 0
           },
           {
            "bin_start": 6.727792497163486,
            "bin_end": 7.586560743001824,
            "count": 0
           },
           {
            "bin_start": 7.586560743001824,
            "bin_end": 8.445328988840162,
            "count": 0
           },
           {
            "bin_start": 8.445328988840162,
            "bin_end": 9.3040972346785,
            "count": 2
           }
          ]
         }
        },
        {
         "name": "tau2",
         "dtype": "float64",
         "stats": {
          "unique_count": 5,
          "nan_count": 0,
          "min": "3.07988520422811",
          "max": "8.84842842134833",
          "histogram": [
           {
            "bin_start": 3.07988520422811,
            "bin_end": 3.6567395259401323,
            "count": 1
           },
           {
            "bin_start": 3.6567395259401323,
            "bin_end": 4.233593847652154,
            "count": 0
           },
           {
            "bin_start": 4.233593847652154,
            "bin_end": 4.810448169364176,
            "count": 0
           },
           {
            "bin_start": 4.810448169364176,
            "bin_end": 5.387302491076198,
            "count": 1
           },
           {
            "bin_start": 5.387302491076198,
            "bin_end": 5.964156812788221,
            "count": 0
           },
           {
            "bin_start": 5.964156812788221,
            "bin_end": 6.541011134500243,
            "count": 0
           },
           {
            "bin_start": 6.541011134500243,
            "bin_end": 7.1178654562122645,
            "count": 0
           },
           {
            "bin_start": 7.1178654562122645,
            "bin_end": 7.694719777924287,
            "count": 2
           },
           {
            "bin_start": 7.694719777924287,
            "bin_end": 8.27157409963631,
            "count": 0
           },
           {
            "bin_start": 8.27157409963631,
            "bin_end": 8.84842842134833,
            "count": 1
           }
          ]
         }
        },
        {
         "name": "tau3",
         "dtype": "float64",
         "stats": {
          "unique_count": 5,
          "nan_count": 0,
          "min": "3.04647874898866",
          "max": "8.38102539191882",
          "histogram": [
           {
            "bin_start": 3.04647874898866,
            "bin_end": 3.579933413281676,
            "count": 2
           },
           {
            "bin_start": 3.579933413281676,
            "bin_end": 4.113388077574692,
            "count": 0
           },
           {
            "bin_start": 4.113388077574692,
            "bin_end": 4.646842741867708,
            "count": 1
           },
           {
            "bin_start": 4.646842741867708,
            "bin_end": 5.180297406160724,
            "count": 1
           },
           {
            "bin_start": 5.180297406160724,
            "bin_end": 5.71375207045374,
            "count": 0
           },
           {
            "bin_start": 5.71375207045374,
            "bin_end": 6.247206734746756,
            "count": 0
           },
           {
            "bin_start": 6.247206734746756,
            "bin_end": 6.780661399039772,
            "count": 0
           },
           {
            "bin_start": 6.780661399039772,
            "bin_end": 7.314116063332788,
            "count": 0
           },
           {
            "bin_start": 7.314116063332788,
            "bin_end": 7.847570727625804,
            "count": 0
           },
           {
            "bin_start": 7.847570727625804,
            "bin_end": 8.38102539191882,
            "count": 1
           }
          ]
         }
        },
        {
         "name": "tau4",
         "dtype": "float64",
         "stats": {
          "unique_count": 5,
          "nan_count": 0,
          "min": "1.21451813833956",
          "max": "9.85757326996638",
          "histogram": [
           {
            "bin_start": 1.21451813833956,
            "bin_end": 2.0788236515022422,
            "count": 2
           },
           {
            "bin_start": 2.0788236515022422,
            "bin_end": 2.9431291646649242,
            "count": 1
           },
           {
            "bin_start": 2.9431291646649242,
            "bin_end": 3.8074346778276063,
            "count": 0
           },
           {
            "bin_start": 3.8074346778276063,
            "bin_end": 4.671740190990288,
            "count": 0
           },
           {
            "bin_start": 4.671740190990288,
            "bin_end": 5.53604570415297,
            "count": 0
           },
           {
            "bin_start": 5.53604570415297,
            "bin_end": 6.400351217315652,
            "count": 0
           },
           {
            "bin_start": 6.400351217315652,
            "bin_end": 7.264656730478334,
            "count": 0
           },
           {
            "bin_start": 7.264656730478334,
            "bin_end": 8.128962243641016,
            "count": 0
           },
           {
            "bin_start": 8.128962243641016,
            "bin_end": 8.993267756803698,
            "count": 0
           },
           {
            "bin_start": 8.993267756803698,
            "bin_end": 9.85757326996638,
            "count": 2
           }
          ]
         }
        },
        {
         "name": "p1",
         "dtype": "float64",
         "stats": {
          "unique_count": 5,
          "nan_count": 0,
          "min": "3.40515818001095",
          "max": "5.06781210427845",
          "histogram": [
           {
            "bin_start": 3.40515818001095,
            "bin_end": 3.5714235724376997,
            "count": 2
           },
           {
            "bin_start": 3.5714235724376997,
            "bin_end": 3.73768896486445,
            "count": 0
           },
           {
            "bin_start": 3.73768896486445,
            "bin_end": 3.9039543572912,
            "count": 1
           },
           {
            "bin_start": 3.9039543572912,
            "bin_end": 4.07021974971795,
            "count": 1
           },
           {
            "bin_start": 4.07021974971795,
            "bin_end": 4.2364851421447,
            "count": 0
           },
           {
            "bin_start": 4.2364851421447,
            "bin_end": 4.4027505345714495,
            "count": 0
           },
           {
            "bin_start": 4.4027505345714495,
            "bin_end": 4.569015926998199,
            "count": 0
           },
           {
            "bin_start": 4.569015926998199,
            "bin_end": 4.73528131942495,
            "count": 0
           },
           {
            "bin_start": 4.73528131942495,
            "bin_end": 4.9015467118517,
            "count": 0
           },
           {
            "bin_start": 4.9015467118517,
            "bin_end": 5.06781210427845,
            "count": 1
           }
          ]
         }
        },
        {
         "name": "p2",
         "dtype": "float64",
         "stats": {
          "unique_count": 5,
          "nan_count": 0,
          "min": "-1.94005842705193",
          "max": "-0.782603630987543",
          "histogram": [
           {
            "bin_start": -1.94005842705193,
            "bin_end": -1.8243129474454913,
            "count": 1
           },
           {
            "bin_start": -1.8243129474454913,
            "bin_end": -1.7085674678390528,
            "count": 0
           },
           {
            "bin_start": -1.7085674678390528,
            "bin_end": -1.592821988232614,
            "count": 0
           },
           {
            "bin_start": -1.592821988232614,
            "bin_end": -1.4770765086261752,
            "count": 0
           },
           {
            "bin_start": -1.4770765086261752,
            "bin_end": -1.3613310290197367,
            "count": 0
           },
           {
            "bin_start": -1.3613310290197367,
            "bin_end": -1.245585549413298,
            "count": 0
           },
           {
            "bin_start": -1.245585549413298,
            "bin_end": -1.1298400698068591,
            "count": 1
           },
           {
            "bin_start": -1.1298400698068591,
            "bin_end": -1.0140945902004206,
            "count": 2
           },
           {
            "bin_start": -1.0140945902004206,
            "bin_end": -0.8983491105939818,
            "count": 0
           },
           {
            "bin_start": -0.8983491105939818,
            "bin_end": -0.782603630987543,
            "count": 1
           }
          ]
         }
        },
        {
         "name": "p3",
         "dtype": "float64",
         "stats": {
          "unique_count": 5,
          "nan_count": 0,
          "min": "-1.9389441526466",
          "max": "-1.25739482958732",
          "histogram": [
           {
            "bin_start": -1.9389441526466,
            "bin_end": -1.870789220340672,
            "count": 2
           },
           {
            "bin_start": -1.870789220340672,
            "bin_end": -1.8026342880347441,
            "count": 1
           },
           {
            "bin_start": -1.8026342880347441,
            "bin_end": -1.734479355728816,
            "count": 0
           },
           {
            "bin_start": -1.734479355728816,
            "bin_end": -1.666324423422888,
            "count": 0
           },
           {
            "bin_start": -1.666324423422888,
            "bin_end": -1.59816949111696,
            "count": 0
           },
           {
            "bin_start": -1.59816949111696,
            "bin_end": -1.530014558811032,
            "count": 0
           },
           {
            "bin_start": -1.530014558811032,
            "bin_end": -1.461859626505104,
            "count": 0
           },
           {
            "bin_start": -1.461859626505104,
            "bin_end": -1.393704694199176,
            "count": 0
           },
           {
            "bin_start": -1.393704694199176,
            "bin_end": -1.3255497618932481,
            "count": 0
           },
           {
            "bin_start": -1.3255497618932481,
            "bin_end": -1.25739482958732,
            "count": 2
           }
          ]
         }
        },
        {
         "name": "p4",
         "dtype": "float64",
         "stats": {
          "unique_count": 5,
          "nan_count": 0,
          "min": "-1.7230863114883",
          "max": "-0.554305007534195",
          "histogram": [
           {
            "bin_start": -1.7230863114883,
            "bin_end": -1.6062081810928894,
            "count": 1
           },
           {
            "bin_start": -1.6062081810928894,
            "bin_end": -1.489330050697479,
            "count": 0
           },
           {
            "bin_start": -1.489330050697479,
            "bin_end": -1.3724519203020684,
            "count": 0
           },
           {
            "bin_start": -1.3724519203020684,
            "bin_end": -1.255573789906658,
            "count": 0
           },
           {
            "bin_start": -1.255573789906658,
            "bin_end": -1.1386956595112474,
            "count": 1
           },
           {
            "bin_start": -1.1386956595112474,
            "bin_end": -1.021817529115837,
            "count": 0
           },
           {
            "bin_start": -1.021817529115837,
            "bin_end": -0.9049393987204264,
            "count": 2
           },
           {
            "bin_start": -0.9049393987204264,
            "bin_end": -0.7880612683250159,
            "count": 0
           },
           {
            "bin_start": -0.7880612683250159,
            "bin_end": -0.6711831379296054,
            "count": 0
           },
           {
            "bin_start": -0.6711831379296054,
            "bin_end": -0.554305007534195,
            "count": 1
           }
          ]
         }
        },
        {
         "name": "g1",
         "dtype": "float64",
         "stats": {
          "unique_count": 5,
          "nan_count": 0,
          "min": "0.163041039311334",
          "max": "0.797109525792467",
          "histogram": [
           {
            "bin_start": 0.163041039311334,
            "bin_end": 0.2264478879594473,
            "count": 1
           },
           {
            "bin_start": 0.2264478879594473,
            "bin_end": 0.2898547366075606,
            "count": 0
           },
           {
            "bin_start": 0.2898547366075606,
            "bin_end": 0.3532615852556739,
            "count": 0
           },
           {
            "bin_start": 0.3532615852556739,
            "bin_end": 0.4166684339037872,
            "count": 1
           },
           {
            "bin_start": 0.4166684339037872,
            "bin_end": 0.4800752825519005,
            "count": 1
           },
           {
            "bin_start": 0.4800752825519005,
            "bin_end": 0.5434821312000138,
            "count": 0
           },
           {
            "bin_start": 0.5434821312000138,
            "bin_end": 0.6068889798481272,
            "count": 0
           },
           {
            "bin_start": 0.6068889798481272,
            "bin_end": 0.6702958284962404,
            "count": 1
           },
           {
            "bin_start": 0.6702958284962404,
            "bin_end": 0.7337026771443538,
            "count": 0
           },
           {
            "bin_start": 0.7337026771443538,
            "bin_end": 0.797109525792467,
            "count": 1
           }
          ]
         }
        },
        {
         "name": "g2",
         "dtype": "float64",
         "stats": {
          "unique_count": 5,
          "nan_count": 0,
          "min": "0.455449947148291",
          "max": "0.976744082924302",
          "histogram": [
           {
            "bin_start": 0.455449947148291,
            "bin_end": 0.5075793607258922,
            "count": 1
           },
           {
            "bin_start": 0.5075793607258922,
            "bin_end": 0.5597087743034932,
            "count": 0
           },
           {
            "bin_start": 0.5597087743034932,
            "bin_end": 0.6118381878810943,
            "count": 0
           },
           {
            "bin_start": 0.6118381878810943,
            "bin_end": 0.6639676014586955,
            "count": 0
           },
           {
            "bin_start": 0.6639676014586955,
            "bin_end": 0.7160970150362965,
            "count": 0
           },
           {
            "bin_start": 0.7160970150362965,
            "bin_end": 0.7682264286138977,
            "count": 1
           },
           {
            "bin_start": 0.7682264286138977,
            "bin_end": 0.8203558421914987,
            "count": 0
           },
           {
            "bin_start": 0.8203558421914987,
            "bin_end": 0.8724852557690999,
            "count": 2
           },
           {
            "bin_start": 0.8724852557690999,
            "bin_end": 0.924614669346701,
            "count": 0
           },
           {
            "bin_start": 0.924614669346701,
            "bin_end": 0.976744082924302,
            "count": 1
           }
          ]
         }
        },
        {
         "name": "g3",
         "dtype": "float64",
         "stats": {
          "unique_count": 5,
          "nan_count": 0,
          "min": "0.562139050527675",
          "max": "0.929380522872661",
          "histogram": [
           {
            "bin_start": 0.562139050527675,
            "bin_end": 0.5988631977621736,
            "count": 1
           },
           {
            "bin_start": 0.5988631977621736,
            "bin_end": 0.6355873449966722,
            "count": 0
           },
           {
            "bin_start": 0.6355873449966722,
            "bin_end": 0.6723114922311708,
            "count": 1
           },
           {
            "bin_start": 0.6723114922311708,
            "bin_end": 0.7090356394656694,
            "count": 0
           },
           {
            "bin_start": 0.7090356394656694,
            "bin_end": 0.745759786700168,
            "count": 0
           },
           {
            "bin_start": 0.745759786700168,
            "bin_end": 0.7824839339346666,
            "count": 0
           },
           {
            "bin_start": 0.7824839339346666,
            "bin_end": 0.8192080811691652,
            "count": 0
           },
           {
            "bin_start": 0.8192080811691652,
            "bin_end": 0.8559322284036639,
            "count": 1
           },
           {
            "bin_start": 0.8559322284036639,
            "bin_end": 0.8926563756381625,
            "count": 1
           },
           {
            "bin_start": 0.8926563756381625,
            "bin_end": 0.929380522872661,
            "count": 1
           }
          ]
         }
        },
        {
         "name": "g4",
         "dtype": "float64",
         "stats": {
          "unique_count": 5,
          "nan_count": 0,
          "min": "0.109853244952427",
          "max": "0.958033987602737",
          "histogram": [
           {
            "bin_start": 0.109853244952427,
            "bin_end": 0.194671319217458,
            "count": 1
           },
           {
            "bin_start": 0.194671319217458,
            "bin_end": 0.27948939348248897,
            "count": 0
           },
           {
            "bin_start": 0.27948939348248897,
            "bin_end": 0.36430746774752,
            "count": 1
           },
           {
            "bin_start": 0.36430746774752,
            "bin_end": 0.44912554201255095,
            "count": 0
           },
           {
            "bin_start": 0.44912554201255095,
            "bin_end": 0.5339436162775819,
            "count": 0
           },
           {
            "bin_start": 0.5339436162775819,
            "bin_end": 0.618761690542613,
            "count": 0
           },
           {
            "bin_start": 0.618761690542613,
            "bin_end": 0.703579764807644,
            "count": 0
           },
           {
            "bin_start": 0.703579764807644,
            "bin_end": 0.7883978390726749,
            "count": 1
           },
           {
            "bin_start": 0.7883978390726749,
            "bin_end": 0.8732159133377059,
            "count": 1
           },
           {
            "bin_start": 0.8732159133377059,
            "bin_end": 0.958033987602737,
            "count": 1
           }
          ]
         }
        },
        {
         "name": "stab",
         "dtype": "float64",
         "stats": {
          "unique_count": 5,
          "nan_count": 0,
          "min": "-0.0059574643260369",
          "max": "0.0553474891727752",
          "histogram": [
           {
            "bin_start": -0.0059574643260369,
            "bin_end": 0.0001730310238443099,
            "count": 1
           },
           {
            "bin_start": 0.0001730310238443099,
            "bin_end": 0.0063035263737255195,
            "count": 1
           },
           {
            "bin_start": 0.0063035263737255195,
            "bin_end": 0.012434021723606728,
            "count": 0
           },
           {
            "bin_start": 0.012434021723606728,
            "bin_end": 0.01856451707348794,
            "count": 0
           },
           {
            "bin_start": 0.01856451707348794,
            "bin_end": 0.024695012423369148,
            "count": 0
           },
           {
            "bin_start": 0.024695012423369148,
            "bin_end": 0.030825507773250355,
            "count": 1
           },
           {
            "bin_start": 0.030825507773250355,
            "bin_end": 0.03695600312313157,
            "count": 0
           },
           {
            "bin_start": 0.03695600312313157,
            "bin_end": 0.043086498473012776,
            "count": 0
           },
           {
            "bin_start": 0.043086498473012776,
            "bin_end": 0.04921699382289398,
            "count": 0
           },
           {
            "bin_start": 0.04921699382289398,
            "bin_end": 0.0553474891727752,
            "count": 2
           }
          ]
         }
        },
        {
         "name": "stabf",
         "dtype": "object",
         "stats": {
          "unique_count": 2,
          "nan_count": 0,
          "categories": [
           {
            "name": "unstable",
            "count": 4
           },
           {
            "name": "stable",
            "count": 1
           }
          ]
         }
        },
        {
         "name": "_deepnote_index_column",
         "dtype": "int64"
        }
       ],
       "rows_top": [
        {
         "tau1": 2.95906002455997,
         "tau2": 3.07988520422811,
         "tau3": 8.38102539191882,
         "tau4": 9.78075443222607,
         "p1": 3.76308477206316,
         "p2": -0.782603630987543,
         "p3": -1.25739482958732,
         "p4": -1.7230863114883,
         "g1": 0.650456460887227,
         "g2": 0.859578105752345,
         "g3": 0.887444920638513,
         "g4": 0.958033987602737,
         "stab": 0.0553474891727752,
         "stabf": "unstable",
         "_deepnote_index_column": 0
        },
        {
         "tau1": 9.3040972346785,
         "tau2": 4.90252411201167,
         "tau3": 3.04754072762177,
         "tau4": 1.36935735529605,
         "p1": 5.06781210427845,
         "p2": -1.94005842705193,
         "p3": -1.87274168559721,
         "p4": -1.25501199162931,
         "g1": 0.41344056837935,
         "g2": 0.862414076352903,
         "g3": 0.562139050527675,
         "g4": 0.781759910653126,
         "stab": -0.0059574643260369,
         "stabf": "stable",
         "_deepnote_index_column": 1
        },
        {
         "tau1": 8.97170690932022,
         "tau2": 8.84842842134833,
         "tau3": 3.04647874898866,
         "tau4": 1.21451813833956,
         "p1": 3.40515818001095,
         "p2": -1.20745559234302,
         "p3": -1.27721014673295,
         "p4": -0.92049244093498,
         "g1": 0.163041039311334,
         "g2": 0.766688656526962,
         "g3": 0.839444015400588,
         "g4": 0.109853244952427,
         "stab": 0.0034708790483887,
         "stabf": "unstable",
         "_deepnote_index_column": 2
        },
        {
         "tau1": 0.716414776295121,
         "tau2": 7.66959964406565,
         "tau3": 4.48664083058949,
         "tau4": 2.34056298396795,
         "p1": 3.96379106326633,
         "p2": -1.02747330413905,
         "p3": -1.9389441526466,
         "p4": -0.997373606480681,
         "g1": 0.446208906537321,
         "g2": 0.976744082924302,
         "g3": 0.929380522872661,
         "g4": 0.36271777426931,
         "stab": 0.028870543444887,
         "stabf": "unstable",
         "_deepnote_index_column": 3
        },
        {
         "tau1": 3.13411155161342,
         "tau2": 7.60877161603408,
         "tau3": 4.94375930178099,
         "tau4": 9.85757326996638,
         "p1": 3.52581081652096,
         "p2": -1.12553095451115,
         "p3": -1.84597485447561,
         "p4": -0.554305007534195,
         "g1": 0.797109525792467,
         "g2": 0.455449947148291,
         "g3": 0.656946658473716,
         "g4": 0.820923486481631,
         "stab": 0.0498603734837059,
         "stabf": "unstable",
         "_deepnote_index_column": 4
        }
       ],
       "rows_bottom": null
      },
      "text/plain": "       tau1      tau2      tau3      tau4        p1        p2        p3  \\\n0  2.959060  3.079885  8.381025  9.780754  3.763085 -0.782604 -1.257395   \n1  9.304097  4.902524  3.047541  1.369357  5.067812 -1.940058 -1.872742   \n2  8.971707  8.848428  3.046479  1.214518  3.405158 -1.207456 -1.277210   \n3  0.716415  7.669600  4.486641  2.340563  3.963791 -1.027473 -1.938944   \n4  3.134112  7.608772  4.943759  9.857573  3.525811 -1.125531 -1.845975   \n\n         p4        g1        g2        g3        g4      stab     stabf  \n0 -1.723086  0.650456  0.859578  0.887445  0.958034  0.055347  unstable  \n1 -1.255012  0.413441  0.862414  0.562139  0.781760 -0.005957    stable  \n2 -0.920492  0.163041  0.766689  0.839444  0.109853  0.003471  unstable  \n3 -0.997374  0.446209  0.976744  0.929381  0.362718  0.028871  unstable  \n4 -0.554305  0.797110  0.455450  0.656947  0.820923  0.049860  unstable  ",
      "text/html": "<div>\n<style scoped>\n    .dataframe tbody tr th:only-of-type {\n        vertical-align: middle;\n    }\n\n    .dataframe tbody tr th {\n        vertical-align: top;\n    }\n\n    .dataframe thead th {\n        text-align: right;\n    }\n</style>\n<table border=\"1\" class=\"dataframe\">\n  <thead>\n    <tr style=\"text-align: right;\">\n      <th></th>\n      <th>tau1</th>\n      <th>tau2</th>\n      <th>tau3</th>\n      <th>tau4</th>\n      <th>p1</th>\n      <th>p2</th>\n      <th>p3</th>\n      <th>p4</th>\n      <th>g1</th>\n      <th>g2</th>\n      <th>g3</th>\n      <th>g4</th>\n      <th>stab</th>\n      <th>stabf</th>\n    </tr>\n  </thead>\n  <tbody>\n    <tr>\n      <th>0</th>\n      <td>2.959060</td>\n      <td>3.079885</td>\n      <td>8.381025</td>\n      <td>9.780754</td>\n      <td>3.763085</td>\n      <td>-0.782604</td>\n      <td>-1.257395</td>\n      <td>-1.723086</td>\n      <td>0.650456</td>\n      <td>0.859578</td>\n      <td>0.887445</td>\n      <td>0.958034</td>\n      <td>0.055347</td>\n      <td>unstable</td>\n    </tr>\n    <tr>\n      <th>1</th>\n      <td>9.304097</td>\n      <td>4.902524</td>\n      <td>3.047541</td>\n      <td>1.369357</td>\n      <td>5.067812</td>\n      <td>-1.940058</td>\n      <td>-1.872742</td>\n      <td>-1.255012</td>\n      <td>0.413441</td>\n      <td>0.862414</td>\n      <td>0.562139</td>\n      <td>0.781760</td>\n      <td>-0.005957</td>\n      <td>stable</td>\n    </tr>\n    <tr>\n      <th>2</th>\n      <td>8.971707</td>\n      <td>8.848428</td>\n      <td>3.046479</td>\n      <td>1.214518</td>\n      <td>3.405158</td>\n      <td>-1.207456</td>\n      <td>-1.277210</td>\n      <td>-0.920492</td>\n      <td>0.163041</td>\n      <td>0.766689</td>\n      <td>0.839444</td>\n      <td>0.109853</td>\n      <td>0.003471</td>\n      <td>unstable</td>\n    </tr>\n    <tr>\n      <th>3</th>\n      <td>0.716415</td>\n      <td>7.669600</td>\n      <td>4.486641</td>\n      <td>2.340563</td>\n      <td>3.963791</td>\n      <td>-1.027473</td>\n      <td>-1.938944</td>\n      <td>-0.997374</td>\n      <td>0.446209</td>\n      <td>0.976744</td>\n      <td>0.929381</td>\n      <td>0.362718</td>\n      <td>0.028871</td>\n      <td>unstable</td>\n    </tr>\n    <tr>\n      <th>4</th>\n      <td>3.134112</td>\n      <td>7.608772</td>\n      <td>4.943759</td>\n      <td>9.857573</td>\n      <td>3.525811</td>\n      <td>-1.125531</td>\n      <td>-1.845975</td>\n      <td>-0.554305</td>\n      <td>0.797110</td>\n      <td>0.455450</td>\n      <td>0.656947</td>\n      <td>0.820923</td>\n      <td>0.049860</td>\n      <td>unstable</td>\n    </tr>\n  </tbody>\n</table>\n</div>"
     },
     "metadata": {}
    }
   ]
  },
  {
   "cell_type": "code",
   "metadata": {
    "tags": [],
    "cell_id": "00003-5c5e9877-2d5d-4ad9-8dd3-7a998857b776",
    "deepnote_to_be_reexecuted": false,
    "source_hash": "878de0e4",
    "execution_start": 1633472563342,
    "execution_millis": 18,
    "deepnote_cell_type": "code"
   },
   "source": "data.isnull().sum()",
   "execution_count": 4,
   "outputs": [
    {
     "output_type": "execute_result",
     "execution_count": 4,
     "data": {
      "text/plain": "tau1     0\ntau2     0\ntau3     0\ntau4     0\np1       0\np2       0\np3       0\np4       0\ng1       0\ng2       0\ng3       0\ng4       0\nstab     0\nstabf    0\ndtype: int64"
     },
     "metadata": {}
    }
   ]
  },
  {
   "cell_type": "code",
   "metadata": {
    "tags": [],
    "cell_id": "00004-6dc67f63-a3eb-41fa-9a9f-9f224e7f48f4",
    "deepnote_to_be_reexecuted": false,
    "source_hash": "d786443f",
    "execution_start": 1633472563356,
    "execution_millis": 143,
    "deepnote_cell_type": "code"
   },
   "source": "data.describe()",
   "execution_count": 5,
   "outputs": [
    {
     "output_type": "execute_result",
     "execution_count": 5,
     "data": {
      "application/vnd.deepnote.dataframe.v2+json": {
       "row_count": 8,
       "column_count": 13,
       "columns": [
        {
         "name": "tau1",
         "dtype": "float64",
         "stats": {
          "unique_count": 8,
          "nan_count": 0,
          "min": "0.500793021360319",
          "max": "10000.0",
          "histogram": [
           {
            "bin_start": 0.500793021360319,
            "bin_end": 1000.4507137192244,
            "count": 7
           },
           {
            "bin_start": 1000.4507137192244,
            "bin_end": 2000.4006344170884,
            "count": 0
           },
           {
            "bin_start": 2000.4006344170884,
            "bin_end": 3000.3505551149524,
            "count": 0
           },
           {
            "bin_start": 3000.3505551149524,
            "bin_end": 4000.3004758128163,
            "count": 0
           },
           {
            "bin_start": 4000.3004758128163,
            "bin_end": 5000.250396510681,
            "count": 0
           },
           {
            "bin_start": 5000.250396510681,
            "bin_end": 6000.200317208545,
            "count": 0
           },
           {
            "bin_start": 6000.200317208545,
            "bin_end": 7000.150237906409,
            "count": 0
           },
           {
            "bin_start": 7000.150237906409,
            "bin_end": 8000.100158604273,
            "count": 0
           },
           {
            "bin_start": 8000.100158604273,
            "bin_end": 9000.050079302137,
            "count": 0
           },
           {
            "bin_start": 9000.050079302137,
            "bin_end": 10000,
            "count": 1
           }
          ]
         }
        },
        {
         "name": "tau2",
         "dtype": "float64",
         "stats": {
          "unique_count": 8,
          "nan_count": 0,
          "min": "0.500141360493773",
          "max": "10000.0",
          "histogram": [
           {
            "bin_start": 0.500141360493773,
            "bin_end": 1000.4501272244445,
            "count": 7
           },
           {
            "bin_start": 1000.4501272244445,
            "bin_end": 2000.400113088395,
            "count": 0
           },
           {
            "bin_start": 2000.400113088395,
            "bin_end": 3000.350098952346,
            "count": 0
           },
           {
            "bin_start": 3000.350098952346,
            "bin_end": 4000.3000848162965,
            "count": 0
           },
           {
            "bin_start": 4000.3000848162965,
            "bin_end": 5000.2500706802475,
            "count": 0
           },
           {
            "bin_start": 5000.2500706802475,
            "bin_end": 6000.200056544199,
            "count": 0
           },
           {
            "bin_start": 6000.200056544199,
            "bin_end": 7000.150042408149,
            "count": 0
           },
           {
            "bin_start": 7000.150042408149,
            "bin_end": 8000.1000282721,
            "count": 0
           },
           {
            "bin_start": 8000.1000282721,
            "bin_end": 9000.05001413605,
            "count": 0
           },
           {
            "bin_start": 9000.05001413605,
            "bin_end": 10000,
            "count": 1
           }
          ]
         }
        },
        {
         "name": "tau3",
         "dtype": "float64",
         "stats": {
          "unique_count": 8,
          "nan_count": 0,
          "min": "0.500788152733829",
          "max": "10000.0",
          "histogram": [
           {
            "bin_start": 0.500788152733829,
            "bin_end": 1000.4507093374604,
            "count": 7
           },
           {
            "bin_start": 1000.4507093374604,
            "bin_end": 2000.400630522187,
            "count": 0
           },
           {
            "bin_start": 2000.400630522187,
            "bin_end": 3000.350551706914,
            "count": 0
           },
           {
            "bin_start": 3000.350551706914,
            "bin_end": 4000.3004728916403,
            "count": 0
           },
           {
            "bin_start": 4000.3004728916403,
            "bin_end": 5000.250394076366,
            "count": 0
           },
           {
            "bin_start": 5000.250394076366,
            "bin_end": 6000.200315261093,
            "count": 0
           },
           {
            "bin_start": 6000.200315261093,
            "bin_end": 7000.150236445819,
            "count": 0
           },
           {
            "bin_start": 7000.150236445819,
            "bin_end": 8000.100157630546,
            "count": 0
           },
           {
            "bin_start": 8000.100157630546,
            "bin_end": 9000.050078815273,
            "count": 0
           },
           {
            "bin_start": 9000.050078815273,
            "bin_end": 10000,
            "count": 1
           }
          ]
         }
        },
        {
         "name": "tau4",
         "dtype": "float64",
         "stats": {
          "unique_count": 8,
          "nan_count": 0,
          "min": "0.500472961226082",
          "max": "10000.0",
          "histogram": [
           {
            "bin_start": 0.500472961226082,
            "bin_end": 1000.4504256651035,
            "count": 7
           },
           {
            "bin_start": 1000.4504256651035,
            "bin_end": 2000.4003783689807,
            "count": 0
           },
           {
            "bin_start": 2000.4003783689807,
            "bin_end": 3000.350331072858,
            "count": 0
           },
           {
            "bin_start": 3000.350331072858,
            "bin_end": 4000.3002837767353,
            "count": 0
           },
           {
            "bin_start": 4000.3002837767353,
            "bin_end": 5000.250236480613,
            "count": 0
           },
           {
            "bin_start": 5000.250236480613,
            "bin_end": 6000.20018918449,
            "count": 0
           },
           {
            "bin_start": 6000.20018918449,
            "bin_end": 7000.150141888368,
            "count": 0
           },
           {
            "bin_start": 7000.150141888368,
            "bin_end": 8000.100094592245,
            "count": 0
           },
           {
            "bin_start": 8000.100094592245,
            "bin_end": 9000.050047296123,
            "count": 0
           },
           {
            "bin_start": 9000.050047296123,
            "bin_end": 10000,
            "count": 1
           }
          ]
         }
        },
        {
         "name": "p1",
         "dtype": "float64",
         "stats": {
          "unique_count": 8,
          "nan_count": 0,
          "min": "0.7521601049043642",
          "max": "10000.0",
          "histogram": [
           {
            "bin_start": 0.7521601049043642,
            "bin_end": 1000.6769440944139,
            "count": 7
           },
           {
            "bin_start": 1000.6769440944139,
            "bin_end": 2000.6017280839233,
            "count": 0
           },
           {
            "bin_start": 2000.6017280839233,
            "bin_end": 3000.5265120734325,
            "count": 0
           },
           {
            "bin_start": 3000.5265120734325,
            "bin_end": 4000.451296062942,
            "count": 0
           },
           {
            "bin_start": 4000.451296062942,
            "bin_end": 5000.376080052452,
            "count": 0
           },
           {
            "bin_start": 5000.376080052452,
            "bin_end": 6000.300864041961,
            "count": 0
           },
           {
            "bin_start": 6000.300864041961,
            "bin_end": 7000.225648031471,
            "count": 0
           },
           {
            "bin_start": 7000.225648031471,
            "bin_end": 8000.150432020981,
            "count": 0
           },
           {
            "bin_start": 8000.150432020981,
            "bin_end": 9000.07521601049,
            "count": 0
           },
           {
            "bin_start": 9000.07521601049,
            "bin_end": 10000,
            "count": 1
           }
          ]
         }
        },
        {
         "name": "p2",
         "dtype": "float64",
         "stats": {
          "unique_count": 8,
          "nan_count": 0,
          "min": "-1.99989095591106",
          "max": "10000.0",
          "histogram": [
           {
            "bin_start": -1.99989095591106,
            "bin_end": 998.20009813968,
            "count": 7
           },
           {
            "bin_start": 998.20009813968,
            "bin_end": 1998.400087235271,
            "count": 0
           },
           {
            "bin_start": 1998.400087235271,
            "bin_end": 2998.6000763308616,
            "count": 0
           },
           {
            "bin_start": 2998.6000763308616,
            "bin_end": 3998.800065426453,
            "count": 0
           },
           {
            "bin_start": 3998.800065426453,
            "bin_end": 4999.000054522045,
            "count": 0
           },
           {
            "bin_start": 4999.000054522045,
            "bin_end": 5999.200043617635,
            "count": 0
           },
           {
            "bin_start": 5999.200043617635,
            "bin_end": 6999.400032713226,
            "count": 0
           },
           {
            "bin_start": 6999.400032713226,
            "bin_end": 7999.6000218088175,
            "count": 0
           },
           {
            "bin_start": 7999.6000218088175,
            "bin_end": 8999.800010904408,
            "count": 0
           },
           {
            "bin_start": 8999.800010904408,
            "bin_end": 10000,
            "count": 1
           }
          ]
         }
        },
        {
         "name": "p3",
         "dtype": "float64",
         "stats": {
          "unique_count": 8,
          "nan_count": 0,
          "min": "-1.99994466917731",
          "max": "10000.0",
          "histogram": [
           {
            "bin_start": -1.99994466917731,
            "bin_end": 998.2000497977405,
            "count": 7
           },
           {
            "bin_start": 998.2000497977405,
            "bin_end": 1998.4000442646584,
            "count": 0
           },
           {
            "bin_start": 1998.4000442646584,
            "bin_end": 2998.600038731576,
            "count": 0
           },
           {
            "bin_start": 2998.600038731576,
            "bin_end": 3998.800033198494,
            "count": 0
           },
           {
            "bin_start": 3998.800033198494,
            "bin_end": 4999.000027665412,
            "count": 0
           },
           {
            "bin_start": 4999.000027665412,
            "bin_end": 5999.20002213233,
            "count": 0
           },
           {
            "bin_start": 5999.20002213233,
            "bin_end": 6999.4000165992475,
            "count": 0
           },
           {
            "bin_start": 6999.4000165992475,
            "bin_end": 7999.600011066165,
            "count": 0
           },
           {
            "bin_start": 7999.600011066165,
            "bin_end": 8999.800005533083,
            "count": 0
           },
           {
            "bin_start": 8999.800005533083,
            "bin_end": 10000,
            "count": 1
           }
          ]
         }
        },
        {
         "name": "p4",
         "dtype": "float64",
         "stats": {
          "unique_count": 8,
          "nan_count": 0,
          "min": "-1.99992633173043",
          "max": "10000.0",
          "histogram": [
           {
            "bin_start": -1.99992633173043,
            "bin_end": 998.2000663014427,
            "count": 7
           },
           {
            "bin_start": 998.2000663014427,
            "bin_end": 1998.4000589346158,
            "count": 0
           },
           {
            "bin_start": 1998.4000589346158,
            "bin_end": 2998.600051567789,
            "count": 0
           },
           {
            "bin_start": 2998.600051567789,
            "bin_end": 3998.800044200962,
            "count": 0
           },
           {
            "bin_start": 3998.800044200962,
            "bin_end": 4999.000036834135,
            "count": 0
           },
           {
            "bin_start": 4999.000036834135,
            "bin_end": 5999.200029467308,
            "count": 0
           },
           {
            "bin_start": 5999.200029467308,
            "bin_end": 6999.400022100482,
            "count": 0
           },
           {
            "bin_start": 6999.400022100482,
            "bin_end": 7999.6000147336545,
            "count": 0
           },
           {
            "bin_start": 7999.6000147336545,
            "bin_end": 8999.800007366826,
            "count": 0
           },
           {
            "bin_start": 8999.800007366826,
            "bin_end": 10000,
            "count": 1
           }
          ]
         }
        },
        {
         "name": "g1",
         "dtype": "float64",
         "stats": {
          "unique_count": 8,
          "nan_count": 0,
          "min": "0.0500093036111293",
          "max": "10000.0",
          "histogram": [
           {
            "bin_start": 0.0500093036111293,
            "bin_end": 1000.04500837325,
            "count": 7
           },
           {
            "bin_start": 1000.04500837325,
            "bin_end": 2000.040007442889,
            "count": 0
           },
           {
            "bin_start": 2000.040007442889,
            "bin_end": 3000.035006512528,
            "count": 0
           },
           {
            "bin_start": 3000.035006512528,
            "bin_end": 4000.0300055821667,
            "count": 0
           },
           {
            "bin_start": 4000.0300055821667,
            "bin_end": 5000.025004651805,
            "count": 0
           },
           {
            "bin_start": 5000.025004651805,
            "bin_end": 6000.0200037214445,
            "count": 0
           },
           {
            "bin_start": 6000.0200037214445,
            "bin_end": 7000.015002791083,
            "count": 0
           },
           {
            "bin_start": 7000.015002791083,
            "bin_end": 8000.010001860722,
            "count": 0
           },
           {
            "bin_start": 8000.010001860722,
            "bin_end": 9000.005000930361,
            "count": 0
           },
           {
            "bin_start": 9000.005000930361,
            "bin_end": 10000,
            "count": 1
           }
          ]
         }
        },
        {
         "name": "g2",
         "dtype": "float64",
         "stats": {
          "unique_count": 8,
          "nan_count": 0,
          "min": "0.0500531010350864",
          "max": "10000.0",
          "histogram": [
           {
            "bin_start": 0.0500531010350864,
            "bin_end": 1000.0450477909317,
            "count": 7
           },
           {
            "bin_start": 1000.0450477909317,
            "bin_end": 2000.040042480828,
            "count": 0
           },
           {
            "bin_start": 2000.040042480828,
            "bin_end": 3000.035037170725,
            "count": 0
           },
           {
            "bin_start": 3000.035037170725,
            "bin_end": 4000.0300318606214,
            "count": 0
           },
           {
            "bin_start": 4000.0300318606214,
            "bin_end": 5000.025026550517,
            "count": 0
           },
           {
            "bin_start": 5000.025026550517,
            "bin_end": 6000.020021240414,
            "count": 0
           },
           {
            "bin_start": 6000.020021240414,
            "bin_end": 7000.01501593031,
            "count": 0
           },
           {
            "bin_start": 7000.01501593031,
            "bin_end": 8000.010010620207,
            "count": 0
           },
           {
            "bin_start": 8000.010010620207,
            "bin_end": 9000.005005310104,
            "count": 0
           },
           {
            "bin_start": 9000.005005310104,
            "bin_end": 10000,
            "count": 1
           }
          ]
         }
        },
        {
         "name": "g3",
         "dtype": "float64",
         "stats": {
          "unique_count": 8,
          "nan_count": 0,
          "min": "0.0500536923673214",
          "max": "10000.0",
          "histogram": [
           {
            "bin_start": 0.0500536923673214,
            "bin_end": 1000.0450483231307,
            "count": 7
           },
           {
            "bin_start": 1000.0450483231307,
            "bin_end": 2000.040042953894,
            "count": 0
           },
           {
            "bin_start": 2000.040042953894,
            "bin_end": 3000.0350375846574,
            "count": 0
           },
           {
            "bin_start": 3000.0350375846574,
            "bin_end": 4000.0300322154208,
            "count": 0
           },
           {
            "bin_start": 4000.0300322154208,
            "bin_end": 5000.025026846184,
            "count": 0
           },
           {
            "bin_start": 5000.025026846184,
            "bin_end": 6000.0200214769475,
            "count": 0
           },
           {
            "bin_start": 6000.0200214769475,
            "bin_end": 7000.015016107711,
            "count": 0
           },
           {
            "bin_start": 7000.015016107711,
            "bin_end": 8000.010010738474,
            "count": 0
           },
           {
            "bin_start": 8000.010010738474,
            "bin_end": 9000.005005369238,
            "count": 0
           },
           {
            "bin_start": 9000.005005369238,
            "bin_end": 10000,
            "count": 1
           }
          ]
         }
        },
        {
         "name": "g4",
         "dtype": "float64",
         "stats": {
          "unique_count": 8,
          "nan_count": 0,
          "min": "0.0500284939589759",
          "max": "10000.0",
          "histogram": [
           {
            "bin_start": 0.0500284939589759,
            "bin_end": 1000.0450256445631,
            "count": 7
           },
           {
            "bin_start": 1000.0450256445631,
            "bin_end": 2000.0400227951673,
            "count": 0
           },
           {
            "bin_start": 2000.0400227951673,
            "bin_end": 3000.0350199457716,
            "count": 0
           },
           {
            "bin_start": 3000.0350199457716,
            "bin_end": 4000.0300170963756,
            "count": 0
           },
           {
            "bin_start": 4000.0300170963756,
            "bin_end": 5000.0250142469795,
            "count": 0
           },
           {
            "bin_start": 5000.0250142469795,
            "bin_end": 6000.020011397584,
            "count": 0
           },
           {
            "bin_start": 6000.020011397584,
            "bin_end": 7000.015008548188,
            "count": 0
           },
           {
            "bin_start": 7000.015008548188,
            "bin_end": 8000.010005698792,
            "count": 0
           },
           {
            "bin_start": 8000.010005698792,
            "bin_end": 9000.005002849397,
            "count": 0
           },
           {
            "bin_start": 9000.005002849397,
            "bin_end": 10000,
            "count": 1
           }
          ]
         }
        },
        {
         "name": "stab",
         "dtype": "float64",
         "stats": {
          "unique_count": 8,
          "nan_count": 0,
          "min": "-0.0807598924160244",
          "max": "10000.0",
          "histogram": [
           {
            "bin_start": -0.0807598924160244,
            "bin_end": 999.9273160968256,
            "count": 7
           },
           {
            "bin_start": 999.9273160968256,
            "bin_end": 1999.9353920860674,
            "count": 0
           },
           {
            "bin_start": 1999.9353920860674,
            "bin_end": 2999.943468075309,
            "count": 0
           },
           {
            "bin_start": 2999.943468075309,
            "bin_end": 3999.9515440645505,
            "count": 0
           },
           {
            "bin_start": 3999.9515440645505,
            "bin_end": 4999.959620053793,
            "count": 0
           },
           {
            "bin_start": 4999.959620053793,
            "bin_end": 5999.967696043034,
            "count": 0
           },
           {
            "bin_start": 5999.967696043034,
            "bin_end": 6999.975772032276,
            "count": 0
           },
           {
            "bin_start": 6999.975772032276,
            "bin_end": 7999.983848021518,
            "count": 0
           },
           {
            "bin_start": 7999.983848021518,
            "bin_end": 8999.991924010757,
            "count": 0
           },
           {
            "bin_start": 8999.991924010757,
            "bin_end": 10000,
            "count": 1
           }
          ]
         }
        },
        {
         "name": "_deepnote_index_column",
         "dtype": "object"
        }
       ],
       "rows_top": [
        {
         "tau1": 10000,
         "tau2": 10000,
         "tau3": 10000,
         "tau4": 10000,
         "p1": 10000,
         "p2": 10000,
         "p3": 10000,
         "p4": 10000,
         "g1": 10000,
         "g2": 10000,
         "g3": 10000,
         "g4": 10000,
         "stab": 10000,
         "_deepnote_index_column": "count"
        },
        {
         "tau1": 5.249999930614223,
         "tau2": 5.250001022042508,
         "tau3": 5.250003524154421,
         "tau4": 5.249997064361237,
         "p1": 3.74999995793617,
         "p2": -1.2500004574399335,
         "p3": -1.2499997444471809,
         "p4": -1.249999756049055,
         "g1": 0.5249997888492075,
         "g2": 0.5250002583737642,
         "g3": 0.5250003398008583,
         "g4": 0.5250000906280401,
         "stab": 0.01573090000276595,
         "_deepnote_index_column": "mean"
        },
        {
         "tau1": 2.7425483741341625,
         "tau2": 2.7425486737170117,
         "tau3": 2.7425494575854117,
         "tau4": 2.742555529977567,
         "p1": 0.7521601049043642,
         "p2": 0.43303484993229,
         "p3": 0.4330350963379909,
         "p4": 0.4330349941642478,
         "g1": 0.2742555319510568,
         "g2": 0.27425490344574915,
         "g3": 0.27425481303903576,
         "g4": 0.2742548446656049,
         "stab": 0.03691903236673809,
         "_deepnote_index_column": "std"
        },
        {
         "tau1": 0.500793021360319,
         "tau2": 0.500141360493773,
         "tau3": 0.500788152733829,
         "tau4": 0.500472961226082,
         "p1": 1.58258966481528,
         "p2": -1.99989095591106,
         "p3": -1.99994466917731,
         "p4": -1.99992633173043,
         "g1": 0.0500093036111293,
         "g2": 0.0500531010350864,
         "g3": 0.0500536923673214,
         "g4": 0.0500284939589759,
         "stab": -0.0807598924160244,
         "_deepnote_index_column": "min"
        },
        {
         "tau1": 2.874891569049077,
         "tau2": 2.8751400074624502,
         "tau3": 2.8755216839342648,
         "tau4": 2.874950181227275,
         "p1": 3.2182997912410802,
         "p2": -1.6249014915933724,
         "p3": -1.62502529996434,
         "p4": -1.6249595386669102,
         "g1": 0.287521377456071,
         "g2": 0.28755163546020446,
         "g3": 0.28751364266080875,
         "g4": 0.28749444301934796,
         "stab": -0.01555690659682575,
         "_deepnote_index_column": "25%"
        },
        {
         "tau1": 5.250003871926565,
         "tau2": 5.249981261165705,
         "tau3": 5.249978586564115,
         "tau4": 5.249734121200991,
         "p1": 3.751025437294685,
         "p2": -1.24996629085586,
         "p3": -1.2499743078644001,
         "p4": -1.2500072748731101,
         "g1": 0.5250091478346385,
         "g2": 0.5250031470219095,
         "g3": 0.525014693295651,
         "g4": 0.5250016343759885,
         "stab": 0.01714170443331965,
         "_deepnote_index_column": "50%"
        },
        {
         "tau1": 7.624689704807308,
         "tau2": 7.624893124571405,
         "tau3": 7.6249482676273725,
         "tau4": 7.624837729974363,
         "p1": 4.282420204786693,
         "p2": -0.8749770862007948,
         "p3": -0.8750431172845772,
         "p4": -0.8750646635400275,
         "g1": 0.762434853992323,
         "g2": 0.7624903123990713,
         "g3": 0.7624402156634433,
         "g4": 0.7624329890946853,
         "stab": 0.044878440872278276,
         "_deepnote_index_column": "75%"
        },
        {
         "tau1": 9.99946946943287,
         "tau2": 9.99983655621537,
         "tau3": 9.99945000849598,
         "tau4": 9.99944329731088,
         "p1": 5.8644179596283,
         "p2": -0.500108275885764,
         "p3": -0.50007225154374,
         "p4": -0.500024528740323,
         "g1": 0.999937073063054,
         "g2": 0.999944294487435,
         "g3": 0.999981832400081,
         "g4": 0.999930047985306,
         "stab": 0.109403206284885,
         "_deepnote_index_column": "max"
        }
       ],
       "rows_bottom": null
      },
      "text/plain": "               tau1          tau2          tau3          tau4            p1  \\\ncount  10000.000000  10000.000000  10000.000000  10000.000000  10000.000000   \nmean       5.250000      5.250001      5.250004      5.249997      3.750000   \nstd        2.742548      2.742549      2.742549      2.742556      0.752160   \nmin        0.500793      0.500141      0.500788      0.500473      1.582590   \n25%        2.874892      2.875140      2.875522      2.874950      3.218300   \n50%        5.250004      5.249981      5.249979      5.249734      3.751025   \n75%        7.624690      7.624893      7.624948      7.624838      4.282420   \nmax        9.999469      9.999837      9.999450      9.999443      5.864418   \n\n                 p2            p3            p4            g1            g2  \\\ncount  10000.000000  10000.000000  10000.000000  10000.000000  10000.000000   \nmean      -1.250000     -1.250000     -1.250000      0.525000      0.525000   \nstd        0.433035      0.433035      0.433035      0.274256      0.274255   \nmin       -1.999891     -1.999945     -1.999926      0.050009      0.050053   \n25%       -1.624901     -1.625025     -1.624960      0.287521      0.287552   \n50%       -1.249966     -1.249974     -1.250007      0.525009      0.525003   \n75%       -0.874977     -0.875043     -0.875065      0.762435      0.762490   \nmax       -0.500108     -0.500072     -0.500025      0.999937      0.999944   \n\n                 g3            g4          stab  \ncount  10000.000000  10000.000000  10000.000000  \nmean       0.525000      0.525000      0.015731  \nstd        0.274255      0.274255      0.036919  \nmin        0.050054      0.050028     -0.080760  \n25%        0.287514      0.287494     -0.015557  \n50%        0.525015      0.525002      0.017142  \n75%        0.762440      0.762433      0.044878  \nmax        0.999982      0.999930      0.109403  ",
      "text/html": "<div>\n<style scoped>\n    .dataframe tbody tr th:only-of-type {\n        vertical-align: middle;\n    }\n\n    .dataframe tbody tr th {\n        vertical-align: top;\n    }\n\n    .dataframe thead th {\n        text-align: right;\n    }\n</style>\n<table border=\"1\" class=\"dataframe\">\n  <thead>\n    <tr style=\"text-align: right;\">\n      <th></th>\n      <th>tau1</th>\n      <th>tau2</th>\n      <th>tau3</th>\n      <th>tau4</th>\n      <th>p1</th>\n      <th>p2</th>\n      <th>p3</th>\n      <th>p4</th>\n      <th>g1</th>\n      <th>g2</th>\n      <th>g3</th>\n      <th>g4</th>\n      <th>stab</th>\n    </tr>\n  </thead>\n  <tbody>\n    <tr>\n      <th>count</th>\n      <td>10000.000000</td>\n      <td>10000.000000</td>\n      <td>10000.000000</td>\n      <td>10000.000000</td>\n      <td>10000.000000</td>\n      <td>10000.000000</td>\n      <td>10000.000000</td>\n      <td>10000.000000</td>\n      <td>10000.000000</td>\n      <td>10000.000000</td>\n      <td>10000.000000</td>\n      <td>10000.000000</td>\n      <td>10000.000000</td>\n    </tr>\n    <tr>\n      <th>mean</th>\n      <td>5.250000</td>\n      <td>5.250001</td>\n      <td>5.250004</td>\n      <td>5.249997</td>\n      <td>3.750000</td>\n      <td>-1.250000</td>\n      <td>-1.250000</td>\n      <td>-1.250000</td>\n      <td>0.525000</td>\n      <td>0.525000</td>\n      <td>0.525000</td>\n      <td>0.525000</td>\n      <td>0.015731</td>\n    </tr>\n    <tr>\n      <th>std</th>\n      <td>2.742548</td>\n      <td>2.742549</td>\n      <td>2.742549</td>\n      <td>2.742556</td>\n      <td>0.752160</td>\n      <td>0.433035</td>\n      <td>0.433035</td>\n      <td>0.433035</td>\n      <td>0.274256</td>\n      <td>0.274255</td>\n      <td>0.274255</td>\n      <td>0.274255</td>\n      <td>0.036919</td>\n    </tr>\n    <tr>\n      <th>min</th>\n      <td>0.500793</td>\n      <td>0.500141</td>\n      <td>0.500788</td>\n      <td>0.500473</td>\n      <td>1.582590</td>\n      <td>-1.999891</td>\n      <td>-1.999945</td>\n      <td>-1.999926</td>\n      <td>0.050009</td>\n      <td>0.050053</td>\n      <td>0.050054</td>\n      <td>0.050028</td>\n      <td>-0.080760</td>\n    </tr>\n    <tr>\n      <th>25%</th>\n      <td>2.874892</td>\n      <td>2.875140</td>\n      <td>2.875522</td>\n      <td>2.874950</td>\n      <td>3.218300</td>\n      <td>-1.624901</td>\n      <td>-1.625025</td>\n      <td>-1.624960</td>\n      <td>0.287521</td>\n      <td>0.287552</td>\n      <td>0.287514</td>\n      <td>0.287494</td>\n      <td>-0.015557</td>\n    </tr>\n    <tr>\n      <th>50%</th>\n      <td>5.250004</td>\n      <td>5.249981</td>\n      <td>5.249979</td>\n      <td>5.249734</td>\n      <td>3.751025</td>\n      <td>-1.249966</td>\n      <td>-1.249974</td>\n      <td>-1.250007</td>\n      <td>0.525009</td>\n      <td>0.525003</td>\n      <td>0.525015</td>\n      <td>0.525002</td>\n      <td>0.017142</td>\n    </tr>\n    <tr>\n      <th>75%</th>\n      <td>7.624690</td>\n      <td>7.624893</td>\n      <td>7.624948</td>\n      <td>7.624838</td>\n      <td>4.282420</td>\n      <td>-0.874977</td>\n      <td>-0.875043</td>\n      <td>-0.875065</td>\n      <td>0.762435</td>\n      <td>0.762490</td>\n      <td>0.762440</td>\n      <td>0.762433</td>\n      <td>0.044878</td>\n    </tr>\n    <tr>\n      <th>max</th>\n      <td>9.999469</td>\n      <td>9.999837</td>\n      <td>9.999450</td>\n      <td>9.999443</td>\n      <td>5.864418</td>\n      <td>-0.500108</td>\n      <td>-0.500072</td>\n      <td>-0.500025</td>\n      <td>0.999937</td>\n      <td>0.999944</td>\n      <td>0.999982</td>\n      <td>0.999930</td>\n      <td>0.109403</td>\n    </tr>\n  </tbody>\n</table>\n</div>"
     },
     "metadata": {}
    }
   ]
  },
  {
   "cell_type": "code",
   "metadata": {
    "tags": [],
    "cell_id": "00005-4761c0ee-064b-469c-a18b-b7cb0289672e",
    "deepnote_to_be_reexecuted": false,
    "source_hash": "957547ae",
    "execution_start": 1633472563452,
    "execution_millis": 58,
    "deepnote_cell_type": "code"
   },
   "source": "data.info()",
   "execution_count": 6,
   "outputs": [
    {
     "name": "stdout",
     "text": "<class 'pandas.core.frame.DataFrame'>\nRangeIndex: 10000 entries, 0 to 9999\nData columns (total 14 columns):\n #   Column  Non-Null Count  Dtype  \n---  ------  --------------  -----  \n 0   tau1    10000 non-null  float64\n 1   tau2    10000 non-null  float64\n 2   tau3    10000 non-null  float64\n 3   tau4    10000 non-null  float64\n 4   p1      10000 non-null  float64\n 5   p2      10000 non-null  float64\n 6   p3      10000 non-null  float64\n 7   p4      10000 non-null  float64\n 8   g1      10000 non-null  float64\n 9   g2      10000 non-null  float64\n 10  g3      10000 non-null  float64\n 11  g4      10000 non-null  float64\n 12  stab    10000 non-null  float64\n 13  stabf   10000 non-null  object \ndtypes: float64(13), object(1)\nmemory usage: 1.1+ MB\n",
     "output_type": "stream"
    }
   ]
  },
  {
   "cell_type": "code",
   "metadata": {
    "tags": [],
    "cell_id": "00005-8de2a40c-dd16-4482-a33c-cb5d1238273d",
    "deepnote_to_be_reexecuted": false,
    "source_hash": "930f15da",
    "execution_start": 1633472563478,
    "execution_millis": 356,
    "deepnote_cell_type": "code"
   },
   "source": "### Import required functionalities\nfrom sklearn.ensemble import ExtraTreesClassifier, RandomForestClassifier\nfrom lightgbm import LGBMClassifier\nfrom xgboost import XGBClassifier\nfrom sklearn.preprocessing import LabelEncoder, StandardScaler\nfrom sklearn.model_selection import train_test_split",
   "execution_count": 7,
   "outputs": []
  },
  {
   "cell_type": "code",
   "metadata": {
    "tags": [],
    "cell_id": "00006-e94f9fb6-ef88-47ac-98bf-627caab03e43",
    "deepnote_to_be_reexecuted": false,
    "source_hash": "f334dea7",
    "execution_start": 1633472563840,
    "execution_millis": 43,
    "deepnote_cell_type": "code"
   },
   "source": "### Segregate features from labels\nX = data.drop(labels = ['stab', 'stabf'], axis = 1)\ny = data['stabf']",
   "execution_count": 8,
   "outputs": []
  },
  {
   "cell_type": "code",
   "source": "data_columns = X.columns",
   "metadata": {
    "tags": [],
    "cell_id": "00008-5004d5bd-ae66-443a-87fd-4e0a1668804b",
    "deepnote_to_be_reexecuted": false,
    "source_hash": "474ffd69",
    "execution_start": 1633472563884,
    "execution_millis": 0,
    "deepnote_cell_type": "code"
   },
   "outputs": [],
   "execution_count": 9
  },
  {
   "cell_type": "code",
   "metadata": {
    "tags": [],
    "cell_id": "00008-16be5c3e-0a40-4b6b-b7f0-3419083e16e1",
    "deepnote_to_be_reexecuted": false,
    "source_hash": "60a98ee8",
    "execution_start": 1633472563884,
    "execution_millis": 6,
    "deepnote_cell_type": "code"
   },
   "source": "from collections import Counter\nCounter(y)",
   "execution_count": 10,
   "outputs": [
    {
     "output_type": "execute_result",
     "execution_count": 10,
     "data": {
      "text/plain": "Counter({'unstable': 6380, 'stable': 3620})"
     },
     "metadata": {}
    }
   ]
  },
  {
   "cell_type": "code",
   "metadata": {
    "tags": [],
    "cell_id": "00009-4ceb2c92-3af2-4e41-9c3d-481368c83741",
    "deepnote_to_be_reexecuted": false,
    "source_hash": "e924d718",
    "execution_start": 1633472563886,
    "execution_millis": 225,
    "deepnote_cell_type": "code"
   },
   "source": "plt.figure(figsize = (10, 10))\nsns.countplot(y)\nplt.show()\nplt.close()",
   "execution_count": 11,
   "outputs": [
    {
     "name": "stderr",
     "text": "/shared-libs/python3.7/py/lib/python3.7/site-packages/seaborn/_decorators.py:43: FutureWarning: Pass the following variable as a keyword arg: x. From version 0.12, the only valid positional argument will be `data`, and passing other arguments without an explicit keyword will result in an error or misinterpretation.\n  FutureWarning\n",
     "output_type": "stream"
    },
    {
     "data": {
      "text/plain": "<Figure size 720x720 with 1 Axes>",
      "image/png": "[encoded data removed]"
     },
     "metadata": {
      "image/png": {
       "width": 626,
       "height": 594
      }
     },
     "output_type": "display_data"
    }
   ]
  },
  {
   "cell_type": "markdown",
   "source": "The data is imbalanced. As such measures will have to be put in place to combat this state of affairs.",
   "metadata": {
    "tags": [],
    "cell_id": "00009-de294f92-a363-4a58-b5d7-171d2a7e3e58",
    "deepnote_cell_type": "markdown"
   }
  },
  {
   "cell_type": "code",
   "metadata": {
    "tags": [],
    "cell_id": "00008-0f8d8de2-76d0-4436-bb64-8641bb3c40ea",
    "deepnote_to_be_reexecuted": false,
    "source_hash": "60972341",
    "execution_start": 1633472564140,
    "execution_millis": 1,
    "deepnote_cell_type": "code"
   },
   "source": "### Split dataset\nX_train, X_test, y_train, y_test = train_test_split(X, y, random_state = 1,\n                                                    test_size = 0.2)",
   "execution_count": 12,
   "outputs": []
  },
  {
   "cell_type": "code",
   "metadata": {
    "tags": [],
    "cell_id": "00008-af590c8f-06b6-4bfe-bcf5-d05a7065e4ef",
    "deepnote_to_be_reexecuted": false,
    "source_hash": "700d8a9b",
    "execution_start": 1633472564141,
    "execution_millis": 0,
    "deepnote_cell_type": "code"
   },
   "source": "### Scale data features\nscaler = StandardScaler()\nle = LabelEncoder()\n\nX_train = scaler.fit_transform(X_train)\nX_test = scaler.transform(X_test)\n\n### Encode labels\ny_train = le.fit_transform(y_train)\ny_test = le.transform(y_test)",
   "execution_count": 13,
   "outputs": []
  },
  {
   "cell_type": "code",
   "metadata": {
    "tags": [],
    "cell_id": "00012-92e1af9a-eb6e-4e41-9ca8-89760b29d65f",
    "deepnote_to_be_reexecuted": false,
    "source_hash": "68f0b2cf",
    "execution_start": 1633472564142,
    "execution_millis": 0,
    "deepnote_cell_type": "code"
   },
   "source": "### Instantiate model objects\nextra_tree = ExtraTreesClassifier(random_state = 1)\nrfc = RandomForestClassifier(random_state = 1)\nlgbm = LGBMClassifier(random_state = 1)\nxgb = XGBClassifier(use_label_encoder = False, random_state = 1)",
   "execution_count": 14,
   "outputs": []
  },
  {
   "cell_type": "code",
   "metadata": {
    "tags": [],
    "cell_id": "00011-b9d97278-c3b7-4e0b-9903-d6a699a79da6",
    "deepnote_to_be_reexecuted": false,
    "source_hash": "8516ca99",
    "execution_start": 1633472564142,
    "execution_millis": 3,
    "deepnote_cell_type": "code"
   },
   "source": "def train_model(model, score_func, X_train = X_train, y_train = y_train,\n                X_test = X_test, y_test = y_test):\n\n    \"\"\"Train model and report performance.\"\"\"\n\n    model.fit(X_train, y_train)\n\n    y_hat_train = model.predict(X_train)\n    y_hat_test = model.predict(X_test)\n\n    train_score = score_func(y_train, y_hat_train)\n    test_score = score_func(y_test, y_hat_test)\n    print(f'Train score: {train_score}\\nTest score: {test_score}')\n    return None",
   "execution_count": 15,
   "outputs": []
  },
  {
   "cell_type": "code",
   "metadata": {
    "tags": [],
    "cell_id": "00013-72a93799-4361-4bb9-bbd2-66db466673ae",
    "deepnote_to_be_reexecuted": false,
    "source_hash": "555351ca",
    "execution_start": 1633472564149,
    "execution_millis": 2,
    "deepnote_cell_type": "code"
   },
   "source": "### Hyperparametric grid for ExtraTrees\nhyperparameter_grid = dict(n_estimators = [50, 100, 300, 500, 1000],\n                            min_samples_split = [2, 3, 5, 7, 9],\n                            min_samples_leaf = [1, 2, 4, 6, 8], max_features = ['auto', 'sqrt', 'log2', None])",
   "execution_count": 16,
   "outputs": []
  },
  {
   "cell_type": "code",
   "source": "from sklearn.metrics import accuracy_score, f1_score, recall_score, precision_score",
   "metadata": {
    "tags": [],
    "cell_id": "00016-f6b19623-5f76-460a-95a4-9171bf0895a2",
    "deepnote_to_be_reexecuted": false,
    "source_hash": "860b0806",
    "execution_start": 1633472564199,
    "execution_millis": 0,
    "deepnote_cell_type": "code"
   },
   "outputs": [],
   "execution_count": 17
  },
  {
   "cell_type": "code",
   "metadata": {
    "tags": [],
    "cell_id": "00014-75e5976f-45cc-4e1c-98b6-b7c94f80f24f",
    "deepnote_to_be_reexecuted": false,
    "source_hash": "964915c9",
    "execution_start": 1633472564200,
    "execution_millis": 2011,
    "deepnote_cell_type": "code"
   },
   "source": "### Random forest accuracy\ntrain_model(model = rfc, score_func = accuracy_score)",
   "execution_count": 18,
   "outputs": [
    {
     "name": "stdout",
     "text": "Train score: 1.0\nTest score: 0.929\n",
     "output_type": "stream"
    }
   ]
  },
  {
   "cell_type": "code",
   "source": "### XGB accuracy\ntrain_model(model = xgb, score_func = accuracy_score)",
   "metadata": {
    "tags": [],
    "cell_id": "00018-f736bde6-a5cb-4832-b44b-255b35f53150",
    "deepnote_to_be_reexecuted": false,
    "source_hash": "19a37e0",
    "execution_start": 1633472566215,
    "execution_millis": 2740,
    "deepnote_cell_type": "code"
   },
   "outputs": [
    {
     "name": "stdout",
     "text": "[22:22:46] WARNING: ../src/learner.cc:1095: Starting in XGBoost 1.3.0, the default evaluation metric used with the objective 'binary:logistic' was changed from 'error' to 'logloss'. Explicitly set eval_metric if you'd like to restore the old behavior.\nTrain score: 1.0\nTest score: 0.9455\n",
     "output_type": "stream"
    }
   ],
   "execution_count": 19
  },
  {
   "cell_type": "code",
   "source": "### Lightgbm accuracy\ntrain_model(model = lgbm, score_func = accuracy_score)",
   "metadata": {
    "tags": [],
    "cell_id": "00019-de32e97d-cffd-406f-a5f4-5249463a963b",
    "deepnote_to_be_reexecuted": false,
    "source_hash": "2af86423",
    "execution_start": 1633472568957,
    "execution_millis": 408,
    "deepnote_cell_type": "code"
   },
   "outputs": [
    {
     "name": "stdout",
     "text": "Train score: 0.997875\nTest score: 0.9395\n",
     "output_type": "stream"
    }
   ],
   "execution_count": 20
  },
  {
   "cell_type": "code",
   "source": "from sklearn.model_selection import RandomizedSearchCV",
   "metadata": {
    "tags": [],
    "cell_id": "00020-93191514-9ad3-4705-a0ee-8c0dd1a73883",
    "deepnote_to_be_reexecuted": false,
    "source_hash": "f576e39e",
    "execution_start": 1633472569362,
    "execution_millis": 4,
    "deepnote_cell_type": "code"
   },
   "outputs": [],
   "execution_count": 21
  },
  {
   "cell_type": "code",
   "source": "### Random search object\nr_search = RandomizedSearchCV(estimator = extra_tree, param_distributions = hyperparameter_grid,\n                                random_state = 1, cv = 5, n_iter = 10, scoring = 'accuracy',\n                                n_jobs = -1, verbose = 1)",
   "metadata": {
    "tags": [],
    "cell_id": "00021-8230400f-6846-4f6a-adcb-fd4a6106e09e",
    "deepnote_to_be_reexecuted": false,
    "source_hash": "1afcb230",
    "execution_start": 1633472569371,
    "execution_millis": 3,
    "deepnote_cell_type": "code"
   },
   "outputs": [],
   "execution_count": 22
  },
  {
   "cell_type": "code",
   "source": "r_search.fit(X_train, y_train)",
   "metadata": {
    "tags": [],
    "cell_id": "00022-53bb1761-379f-4a8f-b3d6-b6ad223ac423",
    "deepnote_to_be_reexecuted": false,
    "source_hash": "2eabc75e",
    "execution_start": 1633472569376,
    "execution_millis": 107768,
    "deepnote_cell_type": "code"
   },
   "outputs": [
    {
     "name": "stdout",
     "text": "Fitting 5 folds for each of 10 candidates, totalling 50 fits\n",
     "output_type": "stream"
    },
    {
     "output_type": "execute_result",
     "execution_count": 23,
     "data": {
      "text/plain": "RandomizedSearchCV(cv=5, estimator=ExtraTreesClassifier(random_state=1),\n                   n_jobs=-1,\n                   param_distributions={'max_features': ['auto', 'sqrt', 'log2',\n                                                         None],\n                                        'min_samples_leaf': [1, 2, 4, 6, 8],\n                                        'min_samples_split': [2, 3, 5, 7, 9],\n                                        'n_estimators': [50, 100, 300, 500,\n                                                         1000]},\n                   random_state=1, scoring='accuracy', verbose=1)"
     },
     "metadata": {}
    }
   ],
   "execution_count": 23
  },
  {
   "cell_type": "code",
   "source": "r_search.best_params_",
   "metadata": {
    "tags": [],
    "cell_id": "00023-24bf4b32-ec26-4ba1-b6d6-5940586da52a",
    "deepnote_to_be_reexecuted": false,
    "source_hash": "ca835b81",
    "execution_start": 1633472677132,
    "execution_millis": 80,
    "deepnote_cell_type": "code"
   },
   "outputs": [
    {
     "output_type": "execute_result",
     "execution_count": 24,
     "data": {
      "text/plain": "{'n_estimators': 1000,\n 'min_samples_split': 2,\n 'min_samples_leaf': 8,\n 'max_features': None}"
     },
     "metadata": {}
    }
   ],
   "execution_count": 24
  },
  {
   "cell_type": "code",
   "source": "params = {'n_estimators': 1000,\n            'random_state' : 1,\n            'min_samples_split': 2,\n            'min_samples_leaf': 8,\n            'max_features': None}",
   "metadata": {
    "tags": [],
    "cell_id": "00024-fe2f1580-ab29-456b-9693-e78d7da95987",
    "deepnote_to_be_reexecuted": false,
    "source_hash": "ebfae423",
    "execution_start": 1633472677134,
    "execution_millis": 593047,
    "deepnote_cell_type": "code"
   },
   "outputs": [],
   "execution_count": 25
  },
  {
   "cell_type": "code",
   "source": "new_etc = ExtraTreesClassifier(**params)",
   "metadata": {
    "tags": [],
    "cell_id": "00025-169ff019-8547-4635-89f8-aab533a86f71",
    "deepnote_to_be_reexecuted": false,
    "source_hash": "99c3f170",
    "execution_start": 1633472677203,
    "execution_millis": 593016,
    "deepnote_cell_type": "code"
   },
   "outputs": [],
   "execution_count": 26
  },
  {
   "cell_type": "code",
   "source": "### New ExtraTrees object\ntrain_model(model = new_etc, score_func = accuracy_score)",
   "metadata": {
    "tags": [],
    "cell_id": "00026-b8b74e3d-f492-40dd-a446-bb9c9620006f",
    "deepnote_to_be_reexecuted": false,
    "source_hash": "35db5bc5",
    "execution_start": 1633472677203,
    "execution_millis": 11086,
    "deepnote_cell_type": "code"
   },
   "outputs": [
    {
     "name": "stdout",
     "text": "Train score: 0.98325\nTest score: 0.927\n",
     "output_type": "stream"
    }
   ],
   "execution_count": 27
  },
  {
   "cell_type": "code",
   "source": "### Original ExtraTrees object\ntrain_model(model = extra_tree, score_func = accuracy_score)",
   "metadata": {
    "tags": [],
    "cell_id": "00027-a2c6a5d5-f460-43d2-b57b-f92411cd87bb",
    "deepnote_to_be_reexecuted": false,
    "source_hash": "ea09a7a1",
    "execution_start": 1633472688283,
    "execution_millis": 859,
    "deepnote_cell_type": "code"
   },
   "outputs": [
    {
     "name": "stdout",
     "text": "Train score: 1.0\nTest score: 0.928\n",
     "output_type": "stream"
    }
   ],
   "execution_count": 28
  },
  {
   "cell_type": "code",
   "source": "### Feature importances\nfi_dict = dict(zip(data_columns, new_etc.feature_importances_))",
   "metadata": {
    "tags": [],
    "cell_id": "00028-a1d06b90-6014-4f05-a1d5-a5ea6c023469",
    "deepnote_to_be_reexecuted": false,
    "source_hash": "84e23de0",
    "execution_start": 1633472689143,
    "execution_millis": 88,
    "deepnote_cell_type": "code"
   },
   "outputs": [],
   "execution_count": 29
  },
  {
   "cell_type": "code",
   "source": "### Sorted feature importances\nsorted(fi_dict.items(), key = lambda x: x[1])",
   "metadata": {
    "tags": [],
    "cell_id": "00029-d785a8f4-d45d-4306-ba8e-46fe876b112c",
    "deepnote_to_be_reexecuted": false,
    "source_hash": "ddf80fd8",
    "execution_start": 1633472689279,
    "execution_millis": 6,
    "deepnote_cell_type": "code"
   },
   "outputs": [
    {
     "output_type": "execute_result",
     "execution_count": 30,
     "data": {
      "text/plain": "[('p1', 0.003683422151688322),\n ('p4', 0.004962486591192238),\n ('p2', 0.005336864710946151),\n ('p3', 0.005429268421191957),\n ('g1', 0.10256244080927947),\n ('g2', 0.10757764577478764),\n ('g4', 0.10954089174337298),\n ('g3', 0.11306267999167334),\n ('tau3', 0.13468028520386593),\n ('tau4', 0.1354167630909727),\n ('tau1', 0.13723974766109256),\n ('tau2', 0.14050750384993677)]"
     },
     "metadata": {}
    }
   ],
   "execution_count": 30
  },
  {
   "cell_type": "code",
   "source": "",
   "metadata": {
    "tags": [],
    "cell_id": "00031-f4ba03ec-395b-4c17-8366-141bc00a4cf0",
    "deepnote_to_be_reexecuted": false,
    "source_hash": "b623e53d",
    "execution_start": 1633472689280,
    "execution_millis": 593215,
    "deepnote_cell_type": "code"
   },
   "outputs": [],
   "execution_count": 30
  },
  {
   "cell_type": "markdown",
   "source": "<a style='text-decoration:none;line-height:16px;display:flex;color:#5B5B62;padding:10px;justify-content:end;' href='https://deepnote.com?utm_source=created-in-deepnote-cell&projectId=e9a26bfe-1f49-4574-b1c5-96ccda50cffb' target=\"_blank\">\n<img alt='Created in deepnote.com' style='display:inline;max-height:16px;margin:0px;margin-right:7.5px;' src='data:image/svg+xml;base64,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' > </img>\nCreated in <span style='font-weight:600;margin-left:4px;'>Deepnote</span></a>",
   "metadata": {
    "tags": [],
    "created_in_deepnote_cell": true,
    "deepnote_cell_type": "markdown"
   }
  }
 ],
 "nbformat": 4,
 "nbformat_minor": 2,
 "metadata": {
  "orig_nbformat": 2,
  "deepnote": {
   "is_reactive": false
  },
  "deepnote_notebook_id": "e16aafca-84f9-4180-92e6-4da071fda928",
  "deepnote_execution_queue": []
 }
}